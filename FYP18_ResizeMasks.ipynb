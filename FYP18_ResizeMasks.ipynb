{
  "nbformat": 4,
  "nbformat_minor": 0,
  "metadata": {
    "colab": {
      "provenance": []
    },
    "kernelspec": {
      "name": "python3",
      "display_name": "Python 3"
    },
    "language_info": {
      "name": "python"
    },
    "accelerator": "GPU",
    "gpuClass": "standard"
  },
  "cells": [
    {
      "cell_type": "code",
      "execution_count": 1,
      "metadata": {
        "id": "5QmY-2eZlER6"
      },
      "outputs": [],
      "source": [
        "import cv2\n",
        "import numpy as np\n",
        "import matplotlib.pyplot as plt\n",
        "import os\n",
        "from tqdm.notebook import tqdm\n",
        "from random import shuffle\n",
        "import torch\n",
        "from torch import nn\n",
        "import math\n",
        "from glob import glob\n",
        "import sys\n",
        "import shutil  \n",
        "\n",
        "device = torch.device(\"cuda\" if torch.cuda.is_available() else \"cpu\")\n",
        "\n",
        "\n",
        "%matplotlib inline"
      ]
    },
    {
      "cell_type": "code",
      "source": [
        "!pip install --upgrade --no-cache-dir gdown\n",
        "import gdown"
      ],
      "metadata": {
        "colab": {
          "base_uri": "https://localhost:8080/"
        },
        "id": "bmjkIJ9NlUwn",
        "outputId": "da078c43-259d-4142-f0b9-653592dd179a"
      },
      "execution_count": 2,
      "outputs": [
        {
          "output_type": "stream",
          "name": "stdout",
          "text": [
            "Looking in indexes: https://pypi.org/simple, https://us-python.pkg.dev/colab-wheels/public/simple/\n",
            "Requirement already satisfied: gdown in /usr/local/lib/python3.8/dist-packages (4.4.0)\n",
            "Collecting gdown\n",
            "  Downloading gdown-4.6.0-py3-none-any.whl (14 kB)\n",
            "Requirement already satisfied: requests[socks] in /usr/local/lib/python3.8/dist-packages (from gdown) (2.25.1)\n",
            "Requirement already satisfied: beautifulsoup4 in /usr/local/lib/python3.8/dist-packages (from gdown) (4.6.3)\n",
            "Requirement already satisfied: filelock in /usr/local/lib/python3.8/dist-packages (from gdown) (3.9.0)\n",
            "Requirement already satisfied: six in /usr/local/lib/python3.8/dist-packages (from gdown) (1.15.0)\n",
            "Requirement already satisfied: tqdm in /usr/local/lib/python3.8/dist-packages (from gdown) (4.64.1)\n",
            "Requirement already satisfied: urllib3<1.27,>=1.21.1 in /usr/local/lib/python3.8/dist-packages (from requests[socks]->gdown) (1.24.3)\n",
            "Requirement already satisfied: certifi>=2017.4.17 in /usr/local/lib/python3.8/dist-packages (from requests[socks]->gdown) (2022.12.7)\n",
            "Requirement already satisfied: idna<3,>=2.5 in /usr/local/lib/python3.8/dist-packages (from requests[socks]->gdown) (2.10)\n",
            "Requirement already satisfied: chardet<5,>=3.0.2 in /usr/local/lib/python3.8/dist-packages (from requests[socks]->gdown) (4.0.0)\n",
            "Requirement already satisfied: PySocks!=1.5.7,>=1.5.6 in /usr/local/lib/python3.8/dist-packages (from requests[socks]->gdown) (1.7.1)\n",
            "Installing collected packages: gdown\n",
            "  Attempting uninstall: gdown\n",
            "    Found existing installation: gdown 4.4.0\n",
            "    Uninstalling gdown-4.4.0:\n",
            "      Successfully uninstalled gdown-4.4.0\n",
            "Successfully installed gdown-4.6.0\n"
          ]
        }
      ]
    },
    {
      "cell_type": "code",
      "source": [
        "# Download NOMAP images\n",
        "url = \"https://drive.google.com/drive/u/0/folders/1lVXX5cFMjOuKoq3cdXituv1aOsFYuCtE\"\n",
        "gdown.download_folder(url, quiet=True, use_cookies=False, remaining_ok=True)"
      ],
      "metadata": {
        "colab": {
          "base_uri": "https://localhost:8080/"
        },
        "id": "AyZekLJalWOa",
        "outputId": "90621a26-24d4-4fc7-d45c-65c3281c2a99"
      },
      "execution_count": 3,
      "outputs": [
        {
          "output_type": "execute_result",
          "data": {
            "text/plain": [
              "['/content/NOMAP/Aeolis Dorsa/ESP_020673_1750_RED.NOMAP.browse.jpg',\n",
              " '/content/NOMAP/Aeolis Dorsa/ESP_031064_1760_RED.NOMAP.browse.jpg',\n",
              " '/content/NOMAP/Aeolis Dorsa/ESP_035600_1765_RED.NOMAP.browse.jpg',\n",
              " '/content/NOMAP/Aeolis Dorsa/ESP_039385_1760_RED.NOMAP.browse.jpg',\n",
              " '/content/NOMAP/Aeolis Dorsa/ESP_048233_1770_RED.NOMAP.browse.jpg',\n",
              " '/content/NOMAP/Aeolis Dorsa/ESP_053639_1760_RED.NOMAP.browse.jpg',\n",
              " '/content/NOMAP/Aeolis Dorsa/ESP_055195_1735_RED.NOMAP.browse.jpg',\n",
              " '/content/NOMAP/Aeolis Dorsa/ESP_071971_1760_RED.NOMAP.browse.jpg',\n",
              " '/content/NOMAP/Aeolis Dorsa/ESP_072116_1740_RED.NOMAP.browse.jpg',\n",
              " '/content/NOMAP/Aeolis Dorsa/ESP_072327_1750_RED.NOMAP.browse.jpg',\n",
              " '/content/NOMAP/Aeolis Dorsa/PSP_009623_1755_RED.NOMAP.browse.jpg',\n",
              " '/content/NOMAP/Aeolis Dorsa/PSP_010533_1755_RED.NOMAP.browse.jpg',\n",
              " '/content/NOMAP/Miyamoto Crator/ESP_012714_1815_RED.NOMAP.browse.jpg',\n",
              " '/content/NOMAP/Miyamoto Crator/ESP_016631_1770_RED.NOMAP.browse.jpg',\n",
              " '/content/NOMAP/Miyamoto Crator/ESP_020863_1830_RED.NOMAP.browse.jpg',\n",
              " '/content/NOMAP/Miyamoto Crator/ESP_028881_1855_RED.NOMAP.browse.jpg',\n",
              " '/content/NOMAP/Miyamoto Crator/ESP_032190_1845_RED.NOMAP.browse.jpg',\n",
              " '/content/NOMAP/Miyamoto Crator/ESP_048515_1820_RED.NOMAP.browse.jpg',\n",
              " '/content/NOMAP/Miyamoto Crator/ESP_048634_1845_RED.NOMAP.browse.jpg',\n",
              " '/content/NOMAP/Miyamoto Crator/ESP_049346_1845_RED.NOMAP.browse.jpg',\n",
              " '/content/NOMAP/Miyamoto Crator/ESP_067636_1875_RED.NOMAP.browse.jpg',\n",
              " '/content/NOMAP/Miyamoto Crator/ESP_074759_1855_RED.NOMAP.browse.jpg',\n",
              " '/content/NOMAP/Miyamoto Crator/PSP_007704_1765_RED.NOMAP.browse.jpg']"
            ]
          },
          "metadata": {},
          "execution_count": 3
        }
      ]
    },
    {
      "cell_type": "code",
      "source": [
        "# Download NOMAP images\n",
        "url = \"https://drive.google.com/drive/u/0/folders/1niDgB_OdWyXR6hpkfGA0OkdjlHodTj0g\"\n",
        "gdown.download_folder(url, quiet=True, use_cookies=False, remaining_ok=True)"
      ],
      "metadata": {
        "colab": {
          "base_uri": "https://localhost:8080/"
        },
        "id": "7rUTuZDJmXZs",
        "outputId": "c94ce9d5-0b6c-4d5e-e9bc-ed87b65eb2c4"
      },
      "execution_count": 4,
      "outputs": [
        {
          "output_type": "execute_result",
          "data": {
            "text/plain": [
              "['/content/Cropped Martian Inverted Channels/Aeolis Dorsa/images/ESP_020673_1750_RED.browse.jpg',\n",
              " '/content/Cropped Martian Inverted Channels/Aeolis Dorsa/images/ESP_031064_1760_RED.browse.jpg',\n",
              " '/content/Cropped Martian Inverted Channels/Aeolis Dorsa/images/ESP_035600_1765_RED.browse.jpg',\n",
              " '/content/Cropped Martian Inverted Channels/Aeolis Dorsa/images/ESP_039385_1760_RED.browse.jpg',\n",
              " '/content/Cropped Martian Inverted Channels/Aeolis Dorsa/images/ESP_048233_1770_RED.browse.jpg',\n",
              " '/content/Cropped Martian Inverted Channels/Aeolis Dorsa/images/ESP_053639_1760_RED.browse.jpg',\n",
              " '/content/Cropped Martian Inverted Channels/Aeolis Dorsa/images/ESP_055195_1735_RED.browse.jpg',\n",
              " '/content/Cropped Martian Inverted Channels/Aeolis Dorsa/images/ESP_071971_1760_RED.browse.jpg',\n",
              " '/content/Cropped Martian Inverted Channels/Aeolis Dorsa/images/ESP_072116_1740_RED.browse.jpg',\n",
              " '/content/Cropped Martian Inverted Channels/Aeolis Dorsa/images/ESP_072327_1750_RED.browse.jpg',\n",
              " '/content/Cropped Martian Inverted Channels/Aeolis Dorsa/images/PSP_009623_1755_RED.browse.jpg',\n",
              " '/content/Cropped Martian Inverted Channels/Aeolis Dorsa/images/PSP_010533_1755_RED.browse.jpg',\n",
              " '/content/Cropped Martian Inverted Channels/Aeolis Dorsa/masks/ESP_020673_1750_RED.browse.png',\n",
              " '/content/Cropped Martian Inverted Channels/Aeolis Dorsa/masks/ESP_031064_1760_RED.browse.png',\n",
              " '/content/Cropped Martian Inverted Channels/Aeolis Dorsa/masks/ESP_035600_1765_RED.browse.png',\n",
              " '/content/Cropped Martian Inverted Channels/Aeolis Dorsa/masks/ESP_039385_1760_RED.browse.png',\n",
              " '/content/Cropped Martian Inverted Channels/Aeolis Dorsa/masks/ESP_048233_1770_RED.browse.png',\n",
              " '/content/Cropped Martian Inverted Channels/Aeolis Dorsa/masks/ESP_053639_1760_RED.browse.png',\n",
              " '/content/Cropped Martian Inverted Channels/Aeolis Dorsa/masks/ESP_055195_1735_RED.browse.png',\n",
              " '/content/Cropped Martian Inverted Channels/Aeolis Dorsa/masks/ESP_071971_1760_RED.browse.png',\n",
              " '/content/Cropped Martian Inverted Channels/Aeolis Dorsa/masks/ESP_072116_1740_RED.browse.png',\n",
              " '/content/Cropped Martian Inverted Channels/Aeolis Dorsa/masks/ESP_072327_1750_RED.browse.png',\n",
              " '/content/Cropped Martian Inverted Channels/Aeolis Dorsa/masks/PSP_009623_1755_RED.browse.png',\n",
              " '/content/Cropped Martian Inverted Channels/Aeolis Dorsa/masks/PSP_010533_1755_RED.browse.png',\n",
              " '/content/Cropped Martian Inverted Channels/Miyamoto Crater/images/ESP_012714_1815_RED.browse.jpg',\n",
              " '/content/Cropped Martian Inverted Channels/Miyamoto Crater/images/ESP_016631_1770_RED.browse.jpg',\n",
              " '/content/Cropped Martian Inverted Channels/Miyamoto Crater/images/ESP_020863_1830_RED.browse.jpg',\n",
              " '/content/Cropped Martian Inverted Channels/Miyamoto Crater/images/ESP_028881_1855_RED.browse.jpg',\n",
              " '/content/Cropped Martian Inverted Channels/Miyamoto Crater/images/ESP_032190_1845_RED.browse.jpg',\n",
              " '/content/Cropped Martian Inverted Channels/Miyamoto Crater/images/ESP_048515_1820_RED.browse.jpg',\n",
              " '/content/Cropped Martian Inverted Channels/Miyamoto Crater/images/ESP_048634_1845_RED.browse.jpg',\n",
              " '/content/Cropped Martian Inverted Channels/Miyamoto Crater/images/ESP_049346_1845_RED.browse.jpg',\n",
              " '/content/Cropped Martian Inverted Channels/Miyamoto Crater/images/ESP_067636_1875_RED.browse.jpg',\n",
              " '/content/Cropped Martian Inverted Channels/Miyamoto Crater/images/ESP_074759_1855_RED.browse.jpg',\n",
              " '/content/Cropped Martian Inverted Channels/Miyamoto Crater/images/PSP_007704_1765_RED.browse.jpg',\n",
              " '/content/Cropped Martian Inverted Channels/Miyamoto Crater/masks/ESP_012714_1815_RED.browse.png',\n",
              " '/content/Cropped Martian Inverted Channels/Miyamoto Crater/masks/ESP_016631_1770_RED.browse.png',\n",
              " '/content/Cropped Martian Inverted Channels/Miyamoto Crater/masks/ESP_020863_1830_RED.browse.png',\n",
              " '/content/Cropped Martian Inverted Channels/Miyamoto Crater/masks/ESP_028881_1855_RED.browse.png',\n",
              " '/content/Cropped Martian Inverted Channels/Miyamoto Crater/masks/ESP_032190_1845_RED.browse.png',\n",
              " '/content/Cropped Martian Inverted Channels/Miyamoto Crater/masks/ESP_048515_1820_RED.browse.png',\n",
              " '/content/Cropped Martian Inverted Channels/Miyamoto Crater/masks/ESP_048634_1845_RED.browse.png',\n",
              " '/content/Cropped Martian Inverted Channels/Miyamoto Crater/masks/ESP_049346_1845_RED.browse.png',\n",
              " '/content/Cropped Martian Inverted Channels/Miyamoto Crater/masks/ESP_067636_1875_RED.browse.png',\n",
              " '/content/Cropped Martian Inverted Channels/Miyamoto Crater/masks/ESP_074759_1855_RED.browse.png',\n",
              " '/content/Cropped Martian Inverted Channels/Miyamoto Crater/masks/PSP_007704_1765_RED.browse.png']"
            ]
          },
          "metadata": {},
          "execution_count": 4
        }
      ]
    },
    {
      "cell_type": "code",
      "source": [
        "img_names = sorted(glob('NOMAP' + '/*/*.jpg'))\n",
        "mask_names = sorted(glob('Cropped Martian Inverted Channels' + '/*/masks/*.png'))"
      ],
      "metadata": {
        "id": "7OMBooVwmnQC"
      },
      "execution_count": 5,
      "outputs": []
    },
    {
      "cell_type": "code",
      "source": [
        "print(len(img_names), len(mask_names))"
      ],
      "metadata": {
        "colab": {
          "base_uri": "https://localhost:8080/"
        },
        "id": "UluiaG0im6JS",
        "outputId": "6fbbc003-3ebe-4dcd-ee66-d2d2b66f5f99"
      },
      "execution_count": 6,
      "outputs": [
        {
          "output_type": "stream",
          "name": "stdout",
          "text": [
            "23 23\n"
          ]
        }
      ]
    }
  ]
}