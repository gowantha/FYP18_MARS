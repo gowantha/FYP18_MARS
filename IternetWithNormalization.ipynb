{
 "cells": [
  {
   "cell_type": "code",
   "execution_count": null,
   "metadata": {
    "collapsed": true
   },
   "outputs": [],
   "source": [
    "import cv2\n",
    "import numpy as np\n",
    "import matplotlib.pyplot as plt\n",
    "import os\n",
    "from tqdm.notebook import tqdm\n",
    "from random import shuffle\n",
    "import torch\n",
    "from torch import nn\n",
    "import math\n",
    "from glob import glob\n",
    "import sys\n",
    "import shutil\n",
    "\n",
    "device = torch.device(\"cuda\" if torch.cuda.is_available() else \"cpu\")\n",
    "\n",
    "\n",
    "%matplotlib inline"
   ]
  },
  {
   "cell_type": "code",
   "execution_count": null,
   "outputs": [],
   "source": [
    "!pip install --upgrade --no-cache-dir gdown\n",
    "import gdown"
   ],
   "metadata": {
    "collapsed": false
   }
  },
  {
   "cell_type": "code",
   "execution_count": null,
   "outputs": [],
   "source": [
    "# Download training data\n",
    "url = \"https://drive.google.com/drive/folders/16ZaNLVBZgn7RYFLiF1jt-WcCF1aRb8aP\"\n",
    "gdown.download_folder(url, quiet=True, use_cookies=False, remaining_ok=True)\n",
    "\n",
    "# Download test data\n",
    "url = \"https://drive.google.com/drive/folders/1dGwTm47UJSp0_qLl0n0VCUPMCu56xEZD\"\n",
    "gdown.download_folder(url, quiet=True, use_cookies=False, remaining_ok=True)"
   ],
   "metadata": {
    "collapsed": false
   }
  }
 ],
 "metadata": {
  "kernelspec": {
   "display_name": "Python 3",
   "language": "python",
   "name": "python3"
  },
  "language_info": {
   "codemirror_mode": {
    "name": "ipython",
    "version": 2
   },
   "file_extension": ".py",
   "mimetype": "text/x-python",
   "name": "python",
   "nbconvert_exporter": "python",
   "pygments_lexer": "ipython2",
   "version": "2.7.6"
  }
 },
 "nbformat": 4,
 "nbformat_minor": 0
}
